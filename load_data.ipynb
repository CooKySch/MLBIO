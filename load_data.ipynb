{
 "cells": [
  {
   "cell_type": "code",
   "execution_count": null,
   "metadata": {},
   "outputs": [],
   "source": [
    "import pickle as pkl\n",
    "# label: dict where keys are the outcome classes and the values are the corresponding indices of columns\n",
    "# rev_index: dict where the keys are the indices of columns and the values are the corresponding outcome classes\n",
    "# features: dict where the keys are the features and the values are the indices\n",
    "label, rev_index, features = pkl.load(open('data/feature_index_all.pkl','rb'))"
   ]
  },
  {
   "cell_type": "code",
   "execution_count": null,
   "metadata": {},
   "outputs": [],
   "source": [
    "print(\"Label: \", label)\n",
    "print(\"Review Index: \", rev_index)\n",
    "print(\"Features: \", features)\n"
   ]
  },
  {
   "cell_type": "code",
   "execution_count": null,
   "metadata": {},
   "outputs": [],
   "source": [
    "import pandas as pd\n",
    "\n",
    "# First column is the guide sequence,\n",
    "# the next 3033 columns are the features(2649 MH binary + 384 one-hot encoded features)\n",
    "# and the last 557 columns are the observed outcome(class) frequencies.\n",
    "\n",
    "Lindel_training = pd.read_csv(\"../Data/Lindel_training.txt\", sep='\\t')\n",
    "# column descriptions\n",
    "#Lindel_training.iloc[0] # guide sequences\n",
    "print(Lindel_training.iloc[0, 0])\n",
    "Lindel_training.iloc[0:1, 2651:3034]\n",
    "# Lindel_training.iloc[1:3034] # 3033 binary features [2649 MH binary features + 384 one hot encoded features]\n",
    "# Lindel_training.iloc[3034:] # 557 observed outcome frequencies\n"
   ]
  },
  {
   "cell_type": "code",
   "execution_count": null,
   "metadata": {},
   "outputs": [],
   "source": [
    "# load model weights from  \n",
    "import pickle as pkl\n",
    "model_weights = pkl.load(open('data/Model_weights.pkl','rb'))\n",
    "# print length fopr each layer\n",
    "print(len(model_weights[0]))\n",
    "print(len(model_weights[1]))\n",
    "print(len(model_weights[2]))\n",
    "print(len(model_weights[3]))\n",
    "print(len(model_weights[4]))\n",
    "print(len(model_weights[5]))\n"
   ]
  },
  {
   "cell_type": "code",
   "execution_count": null,
   "metadata": {},
   "outputs": [],
   "source": [
    "l1_del = \"data/L1_del.h5\"\n",
    "l1_ins = \"data/L1_ins.h5\"\n",
    "l1_indel = \"data/L1_indel.h5\"\n",
    "\n",
    "l2_del = \"data/L2_del.h5\"\n",
    "l2_ins = \"data/L2_ins.h5\"\n",
    "l2_indel = \"data/L2_indel.h5\"\n",
    "\n",
    "# array with all files\n",
    "files = [l1_indel, l1_del, l1_ins, ] \n",
    "files_l2 = [l2_indel, l2_del, l2_ins]"
   ]
  },
  {
   "cell_type": "code",
   "execution_count": null,
   "metadata": {},
   "outputs": [],
   "source": [
    "res_l1 = []\n",
    "from tensorflow import keras    \n",
    "for file in files: \n",
    "    model = keras.models.load_model(file)\n",
    "    print(len(model.get_weights()[0]))\n",
    "    print(len(model.get_weights()[1]))\n",
    "    res_l1.append(model.get_weights()[0])\n",
    "    res_l1.append(model.get_weights()[1])\n",
    "\n",
    "# save res_l1 as pickle to data/Model_weights_l1.pkl\n",
    "import pickle as pkl\n",
    "pkl.dump(res_l1, open('data/Model_weights_l1.pkl','wb'))\n",
    "    \n",
    "# do the same for res_l2\n",
    "res_l2 = []\n",
    "for file in files_l2:\n",
    "    model = keras.models.load_model(file)\n",
    "    print(len(model.get_weights()[0]))\n",
    "    print(len(model.get_weights()[1]))\n",
    "    res_l2.append(model.get_weights()[0])\n",
    "    res_l2.append(model.get_weights()[1])\n",
    "\n",
    "# save res_l2 as pickle to data/Model_weights_l2.pkl\n",
    "import pickle as pkl\n",
    "pkl.dump(res_l2, open('data/Model_weights_l2.pkl','wb'))"
   ]
  },
  {
   "cell_type": "code",
   "execution_count": null,
   "metadata": {},
   "outputs": [],
   "source": [
    "# load prerequesites from data/model_prereq.pkl\n",
    "import pickle as pkl\n",
    "\n",
    "prerequesites = pkl.load(open('data/model_prereq.pkl','rb'))\n",
    "\n",
    "print(prerequesites)"
   ]
  }
 ],
 "metadata": {
  "kernelspec": {
   "display_name": "Python 3 (ipykernel)",
   "language": "python",
   "name": "python3"
  },
  "language_info": {
   "codemirror_mode": {
    "name": "ipython",
    "version": 3
   },
   "file_extension": ".py",
   "mimetype": "text/x-python",
   "name": "python",
   "nbconvert_exporter": "python",
   "pygments_lexer": "ipython3",
   "version": "3.9.6"
  },
  "vscode": {
   "interpreter": {
    "hash": "31f2aee4e71d21fbe5cf8b01ff0e069b9275f58929596ceb00d14d90e3e16cd6"
   }
  }
 },
 "nbformat": 4,
 "nbformat_minor": 4
}
