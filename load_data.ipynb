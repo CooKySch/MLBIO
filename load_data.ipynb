{
 "cells": [
  {
   "cell_type": "code",
   "execution_count": null,
   "metadata": {},
   "outputs": [],
   "source": [
    "import pickle as pkl\n",
    "# label: dict where keys are the outcome classes and the values are the corresponding indices of columns\n",
    "# rev_index: dict where the keys are the indices of columns and the values are the corresponding outcome classes\n",
    "# features: dict where the keys are the features and the values are the indices\n",
    "label, rev_index, features = pkl.load(open('../Data/feature_index_all.pkl','rb'))"
   ]
  },
  {
   "cell_type": "code",
   "execution_count": null,
   "metadata": {},
   "outputs": [],
   "source": [
    "# print(\"Label: \", label)\n",
    "# print(\"Review Index: \", rev_index)\n",
    "print(\"Features: \", features)"
   ]
  },
  {
   "cell_type": "code",
   "execution_count": null,
   "metadata": {},
   "outputs": [],
   "source": [
    "import pandas as pd\n",
    "\n",
    "# First column is the guide sequence,\n",
    "# the next 3033 columns are the features(2649 MH binary + 384 one-hot encoded features)\n",
    "# and the last 557 columns are the observed outcome(class) frequencies.\n",
    "\n",
    "Lindel_training = pd.read_csv(\"../Data/Lindel_training.txt\", sep='\\t')\n",
    "# column descriptions\n",
    "#Lindel_training.iloc[0] # guide sequences\n",
    "print(Lindel_training.iloc[0, 0])\n",
    "Lindel_training.iloc[0:1, 2651:3034]\n",
    "# Lindel_training.iloc[1:3034] # 3033 binary features [2649 MH binary features + 384 one hot encoded features]\n",
    "# Lindel_training.iloc[3034:] # 557 observed outcome frequencies\n"
   ]
  },
  {
   "cell_type": "code",
   "execution_count": null,
   "metadata": {},
   "outputs": [],
   "source": [
    "import h5py\n",
    "import numpy as np\n",
    "import keras\n",
    "\n",
    "filename = \"data/L2_del.h5\"\n",
    "\n",
    "# h5 = h5py.File(filename,'r')\n",
    "\n",
    "# # print model weights\n",
    "# print(h5['model_weights'].keys())\n",
    "# print(list(h5['model_weights']['top_level_model_weights']))\n",
    "reconstructed_model = keras.models.load_model(filename)\n",
    "len(reconstructed_model.get_weights()[1])"
   ]
  },
  {
   "cell_type": "code",
   "execution_count": null,
   "metadata": {},
   "outputs": [],
   "source": []
  }
 ],
 "metadata": {
  "kernelspec": {
   "display_name": "Python 3 (ipykernel)",
   "language": "python",
   "name": "python3"
  },
  "language_info": {
   "codemirror_mode": {
    "name": "ipython",
    "version": 3
   },
   "file_extension": ".py",
   "mimetype": "text/x-python",
   "name": "python",
   "nbconvert_exporter": "python",
   "pygments_lexer": "ipython3",
   "version": "3.7.3"
  },
  "vscode": {
   "interpreter": {
    "hash": "31f2aee4e71d21fbe5cf8b01ff0e069b9275f58929596ceb00d14d90e3e16cd6"
   }
  }
 },
 "nbformat": 4,
 "nbformat_minor": 4
}
