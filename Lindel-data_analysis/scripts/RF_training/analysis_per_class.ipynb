{
 "cells": [
  {
   "cell_type": "code",
   "execution_count": 66,
   "metadata": {},
   "outputs": [],
   "source": [
    "import numpy as np\n",
    "from scipy import stats\n",
    "import scipy.sparse as sparse\n",
    "import argparse\n",
    "import sys\n",
    "import pickle as pkl\n",
    "import matplotlib.pyplot as plt\n",
    "import numpy as np\n",
    "import seaborn as sns\n",
    "from tqdm import tqdm\n",
    "import datetime as dt\n",
    "import pickle as pkl\n",
    "from tensorflow import keras \n",
    "import numpy as np\n",
    "import matplotlib.pyplot as plt\n",
    "import numpy as np\n",
    "import scipy.sparse as sparse"
   ]
  },
  {
   "cell_type": "code",
   "execution_count": 67,
   "metadata": {},
   "outputs": [],
   "source": [
    "# load labels\n",
    "label, rev_index, features = pkl.load(open(\"../../../data/feature_index_all.pkl\", \"rb\"))\n",
    "feature_size = len(features) + 384\n",
    "test_data  = np.loadtxt(\"../../../data/Lindel_test_with_full_seqs.txt\", delimiter='\\t', dtype='str')\n",
    "data = test_data[:, 1:].astype('float32')\n",
    "y = data[:, feature_size:]\n",
    "\n",
    "model_preq = pkl.load(open(\"../../../data/model_prereq.pkl\", 'rb'))\n",
    "label,rev_index,features,frame_shift = model_preq\n",
    "# load pkle file with the predicted frameshifts and predictions for Random Forest\n",
    "predicted_frameshift = pkl.load(open('../../../data/predicted_frameshift.pkl','rb'))\n",
    "predictions = pkl.load(open('../../../data/predictions.pkl','rb'))\n",
    "# normalize predictions\n",
    "for i, p in enumerate(predictions):\n",
    "    try:\n",
    "        predictions[i] = p / np.sum(p)\n",
    "    except:\n",
    "        continue\n",
    "\n",
    "# get the actual frameshifts\n",
    "actual_frameshift = np.dot(y,frame_shift).tolist()\n",
    "\n",
    "# plot the actual vs. predicted frameshifts    \n",
    "for i, pfs in enumerate(predicted_frameshift): \n",
    "    if type(pfs) != np.float64:\n",
    "        # remove the predicted frameshifts that are not floats\n",
    "        predicted_frameshift.pop(i)\n",
    "        actual_frameshift.pop(i)\n",
    "\n",
    "mse = np.mean((np.array(actual_frameshift) - np.array(predicted_frameshift))**2)\n",
    "mse = round(mse, 3)\n",
    "\n",
    "# calculate pearson correlation\n",
    "pearson = stats.pearsonr(actual_frameshift, predicted_frameshift)\n",
    "# keep 3 decimal places\n",
    "pearson = round(pearson[0], 3)\n",
    "\n",
    "\n",
    "# calculate the mses\n",
    "mses = []\n",
    "# calculate MSEs\n",
    "for i, prediction in enumerate(predictions):\n",
    "    if type(prediction) == str  or type(prediction) != np.ndarray:\n",
    "        continue\n",
    "    mses.append(np.mean((prediction - y[i])**2))\n"
   ]
  },
  {
   "cell_type": "code",
   "execution_count": 68,
   "metadata": {},
   "outputs": [],
   "source": [
    "mses_per_class = zip(label, np.array(mses)/10**-3)"
   ]
  },
  {
   "cell_type": "code",
   "execution_count": 76,
   "metadata": {},
   "outputs": [
    {
     "data": {
      "image/png": "[encoded data removed]",
      "text/plain": [
       "<Figure size 1000x1000 with 1 Axes>"
      ]
     },
     "metadata": {},
     "output_type": "display_data"
    }
   ],
   "source": [
    "# filter classes that have microhomology\n",
    "\n",
    "# get the microhomology classes\n",
    "frameshift_classes =  dict()\n",
    "non_frameshift_classes = dict()\n",
    "\n",
    "for i, fm in enumerate(frame_shift):\n",
    "    if fm != 0:\n",
    "        frameshift_classes[rev_index[i]] = 0\n",
    "        \n",
    "        count = 0\n",
    "        # calcualte the mse for this label where y[i] contains predictions per class\n",
    "        for j, prediction in enumerate(predictions):\n",
    "            if type(prediction) == str  or type(prediction) != np.ndarray:\n",
    "                continue\n",
    "            count += 1\n",
    "            frameshift_classes[rev_index[i]] +=  (prediction[i] - y[j][i])**2\n",
    "\n",
    "\n",
    "        # find mean\n",
    "        frameshift_classes[rev_index[i]] = frameshift_classes[rev_index[i]] /count\n",
    "        frameshift_classes[rev_index[i]] = frameshift_classes[rev_index[i]] / 10**-3\n",
    "        \n",
    "    else:\n",
    "        non_frameshift_classes[rev_index[i]] = 0\n",
    "        count = 0\n",
    "        # calcualte the mse for this label where y[i] contains predictions per class\n",
    "        for j, prediction in enumerate(predictions):\n",
    "            if type(prediction) == str  or type(prediction) != np.ndarray:\n",
    "                continue\n",
    "            count += 1\n",
    "            non_frameshift_classes[rev_index[i]] += (prediction[i] - y[j][i])**2\n",
    "        \n",
    "        # find mean\n",
    "        non_frameshift_classes[rev_index[i]] = non_frameshift_classes[rev_index[i]] / count \n",
    "        non_frameshift_classes[rev_index[i]] = non_frameshift_classes[rev_index[i]] / 10**-3\n",
    "        \n",
    "\n",
    "# make a plot that shows both the frameshift and non-frameshift classes in one plot\n",
    "plt.figure(figsize=(10, 10))\n",
    "plt.barh(*zip(*frameshift_classes.items()), color='red', label='Frameshift classes')\n",
    "plt.barh(*zip(*non_frameshift_classes.items()), color='blue', label='Non-frameshift classes')\n",
    "plt.barh(*zip(*non_frameshift_classes.items()), color='blue')\n",
    "plt.xlabel(\"MSE (x 10^-3)\")\n",
    "plt.legend()\n",
    "plt.ylabel(\"Class\")\n",
    "# remove yticks\n",
    "plt.yticks([])\n",
    "plt.show()\n",
    "plt.close()"
   ]
  },
  {
   "cell_type": "code",
   "execution_count": 80,
   "metadata": {},
   "outputs": [
    {
     "name": "stdout",
     "output_type": "stream",
     "text": [
      "389.0 557 168.0\n"
     ]
    }
   ],
   "source": [
    "model_preq = pkl.load(open(\"../../../data/model_prereq.pkl\", 'rb'))\n",
    "label,rev_index,features,frame_shift = model_preq\n",
    "print(sum(frame_shift), len(label),  len(label) - sum(frame_shift))"
   ]
  }
 ],
 "metadata": {
  "kernelspec": {
   "display_name": "Python 3",
   "language": "python",
   "name": "python3"
  },
  "language_info": {
   "codemirror_mode": {
    "name": "ipython",
    "version": 3
   },
   "file_extension": ".py",
   "mimetype": "text/x-python",
   "name": "python",
   "nbconvert_exporter": "python",
   "pygments_lexer": "ipython3",
   "version": "3.9.6"
  },
  "orig_nbformat": 4
 },
 "nbformat": 4,
 "nbformat_minor": 2
}
