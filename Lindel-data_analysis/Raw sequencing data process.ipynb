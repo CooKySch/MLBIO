{
 "cells": [
  {
   "cell_type": "markdown",
   "metadata": {},
   "source": [
    "# Please run this on your cluster and make sure reqired tools are installed\n",
    "* These tools include: pear-0.9.6-bin-32, needleall, UMI-tools and edlib package\n",
    "* Before you started. Please check you have correct directory for these tools in CRISPR_NHEJ_Pipeline.sh\n",
    "* The raw data is available at ***link here***"
   ]
  },
  {
   "cell_type": "code",
   "execution_count": 1,
   "metadata": {},
   "outputs": [],
   "source": [
    "import gzip\n",
    "import subprocess\n",
    "import os,sys,csv,re\n",
    "from optparse import OptionParser,OptionGroup"
   ]
  },
  {
   "cell_type": "code",
   "execution_count": 2,
   "metadata": {},
   "outputs": [],
   "source": [
    "#memory = str(options.memory)\n",
    "def parse_tearsheet(fname):\n",
    "    sample = []\n",
    "    with open(fname,\"r\") as handle:\n",
    "        head = handle.readline()\n",
    "        if head!='sample\\tumi\\treference\\toutdir\\tfastq1\\tfastq2\\tbarcode1\\tbarcode2\\tumi_correction\\tthreshold\\tMerge\\n':\n",
    "            print(\"Error: Bad tearsheet, Please try again!\")\n",
    "        else:\n",
    "            while True:\n",
    "                try:\n",
    "                    sample.append(next(handle).rstrip('\\n').split('\\t'))\n",
    "                except StopIteration:\n",
    "                    break\n",
    "    handle.close()\n",
    "    return sample"
   ]
  },
  {
   "cell_type": "code",
   "execution_count": 3,
   "metadata": {},
   "outputs": [],
   "source": [
    "cwd = os.getcwd()+'/'\n",
    "tearsheet = cwd+'data/2018_07_01_NHEJ_MH.txt'\n",
    "pipeline =\" \" + cwd+\"scripts/CRISPR_NHEJ_Pipeline.sh \"\n",
    "samples = parse_tearsheet(tearsheet)\n",
    "for sample in samples:\n",
    "    memory=sample[-1]\n",
    "    cmd = \"qsub -l mfree=\" + memory + \" -N \" + sample[0] + pipeline + \\\n",
    "    ' '.join([x for x in sample[:2]]+ [cwd+x for x in sample[2:6]] + [x for x in sample[6:-1]] ) + ' '+\\\n",
    "    cwd\n",
    "    p=subprocess.Popen(cmd, stdout=subprocess.PIPE, shell=True)\n",
    "    p.wait()"
   ]
  },
  {
   "cell_type": "code",
   "execution_count": null,
   "metadata": {},
   "outputs": [],
   "source": [
    "cwd = os.getcwd()+'/'\n",
    "tearsheet = cwd+'data/2018_01_26_NHEJ_sub.txt'\n",
    "pipeline =\" \" + cwd+\"scripts/CRISPR_NHEJ_Pipeline.sh \"\n",
    "samples = parse_tearsheet(tearsheet)\n",
    "for sample in samples:\n",
    "    memory=sample[-1]\n",
    "    cmd = \"qsub -l mfree=\" + memory + \" -N \" + sample[0] + pipeline + \\\n",
    "    ' '.join([x for x in sample[:2]]+ [cwd+x for x in sample[2:6]] + [x for x in sample[6:-1]] ) + ' '+\\\n",
    "    cwd\n",
    "    p=subprocess.Popen(cmd, stdout=subprocess.PIPE, shell=True)\n",
    "    p.wait()"
   ]
  }
 ],
 "metadata": {
  "kernelspec": {
   "display_name": "Python 3",
   "language": "python",
   "name": "python3"
  },
  "language_info": {
   "codemirror_mode": {
    "name": "ipython",
    "version": 3
   },
   "file_extension": ".py",
   "mimetype": "text/x-python",
   "name": "python",
   "nbconvert_exporter": "python",
   "pygments_lexer": "ipython3",
   "version": "3.6.6"
  }
 },
 "nbformat": 4,
 "nbformat_minor": 2
}
